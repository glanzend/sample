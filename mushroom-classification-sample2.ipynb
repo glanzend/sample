{
 "cells": [
  {
   "cell_type": "markdown",
   "metadata": {},
   "source": [
    "#  課題"
   ]
  },
  {
   "cell_type": "markdown",
   "metadata": {},
   "source": [
    "#### ========================================================================================="
   ]
  },
  {
   "cell_type": "markdown",
   "metadata": {},
   "source": [
    "###    1.タイトル：形状や生息地等の特性からキノコが食用か有毒かを識別する\n",
    "###    2.kaggle2『Mushroom Classification』"
   ]
  },
  {
   "cell_type": "markdown",
   "metadata": {},
   "source": [
    "####   ●kaggle　https://www.kaggle.com/uciml/mushroom-classification/data\n",
    "####   ●関連サイト https://edu.deepanalytics.jp/datasets/19     https://archive.ics.uci.edu/ml/datasets/Mushroom"
   ]
  },
  {
   "cell_type": "markdown",
   "metadata": {},
   "source": [
    "![mr.png](attachment:mr.png)"
   ]
  },
  {
   "cell_type": "markdown",
   "metadata": {},
   "source": [
    "![Imgur](https://i.imgur.com/vchnLBC.jpg)"
   ]
  },
  {
   "cell_type": "markdown",
   "metadata": {},
   "source": [
    "![Imgur](https://i.imgur.com/2F9PNJU.jpg)"
   ]
  },
  {
   "cell_type": "markdown",
   "metadata": {},
   "source": [
    "#### ========================================================================================="
   ]
  },
  {
   "cell_type": "code",
   "execution_count": 2,
   "metadata": {
    "collapsed": true
   },
   "outputs": [],
   "source": [
    "import pandas as pd\n",
    "import numpy as np\n",
    "\n",
    "#CSVファイル読み込み\n",
    "df_csv =pd.read_csv('mushrooms.csv')"
   ]
  },
  {
   "cell_type": "markdown",
   "metadata": {},
   "source": [
    "#### データ前処理(質的変数をダミー変数へ)"
   ]
  },
  {
   "cell_type": "code",
   "execution_count": 3,
   "metadata": {
    "collapsed": true
   },
   "outputs": [],
   "source": [
    "Y = pd.get_dummies(df_csv.iloc[:,0],  drop_first=False)\n",
    "X = pd.DataFrame()\n",
    "for each in df_csv.iloc[:,1:].columns:\n",
    "    dummies = pd.get_dummies(df_csv[each], prefix=each, drop_first=False)\n",
    "    X = pd.concat([X, dummies], axis=1)"
   ]
  },
  {
   "cell_type": "markdown",
   "metadata": {},
   "source": [
    "#### 機械学習モデルをリストに格納"
   ]
  },
  {
   "cell_type": "code",
   "execution_count": 4,
   "metadata": {
    "collapsed": true
   },
   "outputs": [],
   "source": [
    "from sklearn.linear_model import LogisticRegression\n",
    "from sklearn.tree import DecisionTreeClassifier\n",
    "from sklearn.neighbors import KNeighborsClassifier\n",
    "from sklearn.naive_bayes import GaussianNB\n",
    "from sklearn.svm import SVC\n",
    "from sklearn.ensemble import RandomForestClassifier\n",
    "\n",
    "models = []\n",
    "models.append(('LR(ロジスティツク回帰)', LogisticRegression()))\n",
    "models.append(('KNN(K近傍法)', KNeighborsClassifier()))\n",
    "models.append(('CART(決定木)', DecisionTreeClassifier()))\n",
    "models.append(('GaussianNB(ガウシアンナイーブベイズ)', GaussianNB()))\n",
    "models.append(('SVM(サポートベクタマシン)', SVC(probability=True)))\n",
    "models.append(('RF(ランダムフォレスト)', RandomForestClassifier()))"
   ]
  },
  {
   "cell_type": "markdown",
   "metadata": {},
   "source": [
    "#### 複数のClassifierによる簡易検証"
   ]
  },
  {
   "cell_type": "code",
   "execution_count": 5,
   "metadata": {},
   "outputs": [
    {
     "name": "stdout",
     "output_type": "stream",
     "text": [
      "LR(ロジスティツク回帰): 1.000000 (0.000000)\n",
      "KNN(K近傍法): 1.000000 (0.000000)\n",
      "CART(決定木): 1.000000 (0.000000)\n",
      "GaussianNB(ガウシアンナイーブベイズ): 0.957841 (0.007490)\n",
      "SVM(サポートベクタマシン): 0.997538 (0.000576)\n",
      "RF(ランダムフォレスト): 1.000000 (0.000000)\n"
     ]
    }
   ],
   "source": [
    "import pandas as pd\n",
    "import numpy as np\n",
    "from sklearn.model_selection import train_test_split\n",
    "from sklearn.model_selection import cross_val_score, KFold\n",
    "\n",
    "results = []\n",
    "names = []\n",
    "\n",
    "X_train, X_test, y_train, y_test = train_test_split(X, Y, test_size=0.2, random_state=0)\n",
    "\n",
    "for name, model in models:\n",
    "    kf = KFold(n_splits=5, random_state=1234)\n",
    "    cv_results = cross_val_score(model, X_train, y_train.iloc[:,1], cv=kf, scoring='accuracy')    \n",
    "    results.append(cv_results)\n",
    "    names.append(name)\n",
    "    msg = \"%s: %f (%f)\" % (name, cv_results.mean(), cv_results.std())\n",
    "    print(msg)"
   ]
  },
  {
   "cell_type": "markdown",
   "metadata": {},
   "source": [
    "#### 上記結果から以下のClassifier が有効\n",
    "##### ロジステック回帰、K近傍法、決定木、ランダムフォレスト"
   ]
  }
 ],
 "metadata": {
  "kernelspec": {
   "display_name": "Python 3",
   "language": "python",
   "name": "python3"
  },
  "language_info": {
   "codemirror_mode": {
    "name": "ipython",
    "version": 3
   },
   "file_extension": ".py",
   "mimetype": "text/x-python",
   "name": "python",
   "nbconvert_exporter": "python",
   "pygments_lexer": "ipython3",
   "version": "3.6.3"
  }
 },
 "nbformat": 4,
 "nbformat_minor": 2
}
