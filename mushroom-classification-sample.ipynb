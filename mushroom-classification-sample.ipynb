{
 "cells": [
  {
   "cell_type": "markdown",
   "metadata": {},
   "source": [
    "#  課題"
   ]
  },
  {
   "cell_type": "markdown",
   "metadata": {},
   "source": [
    "#### ========================================================================================="
   ]
  },
  {
   "cell_type": "markdown",
   "metadata": {},
   "source": [
    "###    1.タイトル：形状や生息地等の特性からキノコが食用か有毒かを識別する\n",
    "###    2.kaggle2『Mushroom Classification』"
   ]
  },
  {
   "cell_type": "markdown",
   "metadata": {},
   "source": [
    "####   ●kaggle　https://www.kaggle.com/uciml/mushroom-classification/data\n",
    "####   ●関連サイト https://edu.deepanalytics.jp/datasets/19     https://archive.ics.uci.edu/ml/datasets/Mushroom"
   ]
  },
  {
   "cell_type": "markdown",
   "metadata": {},
   "source": [
    "![mr.png](attachment:mr.png)"
   ]
  },
  {
   "cell_type": "markdown",
   "metadata": {},
   "source": [
    "![Imgur](https://i.imgur.com/vchnLBC.jpg)"
   ]
  },
  {
   "cell_type": "markdown",
   "metadata": {},
   "source": [
    "![Imgur](https://i.imgur.com/2F9PNJU.jpg)"
   ]
  },
  {
   "cell_type": "markdown",
   "metadata": {},
   "source": [
    "#### ========================================================================================="
   ]
  },
  {
   "cell_type": "code",
   "execution_count": 2,
   "metadata": {},
   "outputs": [],
   "source": [
    "import pandas as pd\n",
    "import numpy as np\n",
    "\n",
    "#CSVファイル読み込み\n",
    "df_csv =pd.read_csv('mushrooms.csv')"
   ]
  },
  {
   "cell_type": "markdown",
   "metadata": {},
   "source": [
    "#### データ前処理(質的変数をダミー変数へ)"
   ]
  },
  {
   "cell_type": "code",
   "execution_count": 3,
   "metadata": {
    "collapsed": true
   },
   "outputs": [],
   "source": [
    "Y = pd.get_dummies(df_csv.iloc[:,0],  drop_first=False)\n",
    "X = pd.DataFrame()\n",
    "for each in df_csv.iloc[:,1:].columns:\n",
    "    dummies = pd.get_dummies(df_csv[each], prefix=each, drop_first=False)\n",
    "    X = pd.concat([X, dummies], axis=1)"
   ]
  },
  {
   "cell_type": "markdown",
   "metadata": {},
   "source": [
    "#### 機械学習モデルをリストに格納"
   ]
  },
  {
   "cell_type": "code",
   "execution_count": 4,
   "metadata": {
    "collapsed": true
   },
   "outputs": [],
   "source": [
    "from sklearn.linear_model import LogisticRegression\n",
    "from sklearn.tree import DecisionTreeClassifier\n",
    "from sklearn.neighbors import KNeighborsClassifier\n",
    "from sklearn.naive_bayes import GaussianNB\n",
    "from sklearn.svm import SVC\n",
    "from sklearn.ensemble import RandomForestClassifier\n",
    "\n",
    "models = []\n",
    "models.append(('LR(ロジスティツク回帰)', LogisticRegression()))\n",
    "models.append(('KNN(K近傍法)', KNeighborsClassifier()))\n",
    "models.append(('CART(決定木)', DecisionTreeClassifier()))\n",
    "models.append(('GaussianNB(ガウシアンナイーブベイズ)', GaussianNB()))\n",
    "models.append(('SVM(サポートベクタマシン)', SVC(probability=True)))\n",
    "models.append(('RF(ランダムフォレスト)', RandomForestClassifier()))"
   ]
  },
  {
   "cell_type": "markdown",
   "metadata": {},
   "source": [
    "#### 複数のClassifierによる簡易検証"
   ]
  },
  {
   "cell_type": "code",
   "execution_count": 5,
   "metadata": {},
   "outputs": [
    {
     "name": "stdout",
     "output_type": "stream",
     "text": [
      "1 LR(ロジスティツク回帰): 0.999846 (0.000308)\n",
      "2 LR(ロジスティツク回帰): 0.999846 (0.000308)\n",
      "3 LR(ロジスティツク回帰): 0.999231 (0.000973)\n",
      "4 LR(ロジスティツク回帰): 0.999846 (0.000308)\n",
      "5 LR(ロジスティツク回帰): 0.999692 (0.000615)\n",
      "毒キノコ識別率(accuracy)：1.000000\n",
      "             precision    recall  f1-score   support\n",
      "\n",
      "          0   1.000000  1.000000  1.000000      4208\n",
      "          1   1.000000  1.000000  1.000000      3916\n",
      "\n",
      "avg / total   1.000000  1.000000  1.000000      8124\n",
      "\n",
      "[[4208    0]\n",
      " [   0 3916]]\n"
     ]
    },
    {
     "data": {
      "image/png": "[encoded data removed]",
      "text/plain": [
       "<matplotlib.figure.Figure at 0x2167bfce978>"
      ]
     },
     "metadata": {},
     "output_type": "display_data"
    },
    {
     "name": "stdout",
     "output_type": "stream",
     "text": [
      "--------------------------------------------------\n",
      "1 KNN(K近傍法): 1.000000 (0.000000)\n",
      "2 KNN(K近傍法): 1.000000 (0.000000)\n",
      "3 KNN(K近傍法): 0.999692 (0.000615)\n",
      "4 KNN(K近傍法): 1.000000 (0.000000)\n",
      "5 KNN(K近傍法): 1.000000 (0.000000)\n",
      "毒キノコ識別率(accuracy)：1.000000\n",
      "             precision    recall  f1-score   support\n",
      "\n",
      "          0   1.000000  1.000000  1.000000      4208\n",
      "          1   1.000000  1.000000  1.000000      3916\n",
      "\n",
      "avg / total   1.000000  1.000000  1.000000      8124\n",
      "\n",
      "[[4208    0]\n",
      " [   0 3916]]\n"
     ]
    },
    {
     "data": {
      "image/png": "[encoded data removed]",
      "text/plain": [
       "<matplotlib.figure.Figure at 0x2167c07ebe0>"
      ]
     },
     "metadata": {},
     "output_type": "display_data"
    },
    {
     "name": "stdout",
     "output_type": "stream",
     "text": [
      "--------------------------------------------------\n",
      "1 CART(決定木): 0.999846 (0.000308)\n",
      "2 CART(決定木): 1.000000 (0.000000)\n",
      "3 CART(決定木): 0.999538 (0.000923)\n",
      "4 CART(決定木): 1.000000 (0.000000)\n",
      "5 CART(決定木): 0.999538 (0.000923)\n",
      "毒キノコ識別率(accuracy)：1.000000\n",
      "             precision    recall  f1-score   support\n",
      "\n",
      "          0   1.000000  1.000000  1.000000      4208\n",
      "          1   1.000000  1.000000  1.000000      3916\n",
      "\n",
      "avg / total   1.000000  1.000000  1.000000      8124\n",
      "\n",
      "[[4208    0]\n",
      " [   0 3916]]\n"
     ]
    },
    {
     "data": {
      "image/png": "[encoded data removed]",
      "text/plain": [
       "<matplotlib.figure.Figure at 0x2167c0e20b8>"
      ]
     },
     "metadata": {},
     "output_type": "display_data"
    },
    {
     "name": "stdout",
     "output_type": "stream",
     "text": [
      "--------------------------------------------------\n",
      "1 GaussianNB(ガウシアンナイーブベイズ): 0.966764 (0.004701)\n",
      "2 GaussianNB(ガウシアンナイーブベイズ): 0.956300 (0.006250)\n",
      "3 GaussianNB(ガウシアンナイーブベイズ): 0.952455 (0.013243)\n",
      "4 GaussianNB(ガウシアンナイーブベイズ): 0.951991 (0.007186)\n",
      "5 GaussianNB(ガウシアンナイーブベイズ): 0.962462 (0.006388)\n",
      "毒キノコ識別率(accuracy)：0.959872\n",
      "             precision    recall  f1-score   support\n",
      "\n",
      "          0   0.999228  0.923241  0.959733      4208\n",
      "          1   0.923749  0.999234  0.960010      3916\n",
      "\n",
      "avg / total   0.962845  0.959872  0.959867      8124\n",
      "\n",
      "[[3885  323]\n",
      " [   3 3913]]\n"
     ]
    },
    {
     "data": {
      "image/png": "[encoded data removed]",
      "text/plain": [
       "<matplotlib.figure.Figure at 0x2167c4eacf8>"
      ]
     },
     "metadata": {},
     "output_type": "display_data"
    },
    {
     "name": "stdout",
     "output_type": "stream",
     "text": [
      "--------------------------------------------------\n",
      "1 SVM(サポートベクタマシン): 0.997692 (0.000843)\n",
      "2 SVM(サポートベクタマシン): 0.997692 (0.001614)\n",
      "3 SVM(サポートベクタマシン): 0.998308 (0.001846)\n",
      "4 SVM(サポートベクタマシン): 0.997384 (0.001982)\n",
      "5 SVM(サポートベクタマシン): 0.997692 (0.001614)\n",
      "毒キノコ識別率(accuracy)：0.998523\n",
      "             precision    recall  f1-score   support\n",
      "\n",
      "          0   0.997156  1.000000  0.998576      4208\n",
      "          1   1.000000  0.996936  0.998465      3916\n",
      "\n",
      "avg / total   0.998527  0.998523  0.998523      8124\n",
      "\n",
      "[[4208    0]\n",
      " [  12 3904]]\n"
     ]
    },
    {
     "data": {
      "image/png": "[encoded data removed]",
      "text/plain": [
       "<matplotlib.figure.Figure at 0x2167c58c278>"
      ]
     },
     "metadata": {},
     "output_type": "display_data"
    },
    {
     "name": "stdout",
     "output_type": "stream",
     "text": [
      "--------------------------------------------------\n",
      "1 RF(ランダムフォレスト): 1.000000 (0.000000)\n",
      "2 RF(ランダムフォレスト): 1.000000 (0.000000)\n",
      "3 RF(ランダムフォレスト): 0.999538 (0.000923)\n",
      "4 RF(ランダムフォレスト): 1.000000 (0.000000)\n",
      "5 RF(ランダムフォレスト): 1.000000 (0.000000)\n",
      "毒キノコ識別率(accuracy)：1.000000\n",
      "             precision    recall  f1-score   support\n",
      "\n",
      "          0   1.000000  1.000000  1.000000      4208\n",
      "          1   1.000000  1.000000  1.000000      3916\n",
      "\n",
      "avg / total   1.000000  1.000000  1.000000      8124\n",
      "\n",
      "[[4208    0]\n",
      " [   0 3916]]\n"
     ]
    },
    {
     "data": {
      "image/png": "[encoded data removed]",
      "text/plain": [
       "<matplotlib.figure.Figure at 0x2167c686f98>"
      ]
     },
     "metadata": {},
     "output_type": "display_data"
    },
    {
     "name": "stdout",
     "output_type": "stream",
     "text": [
      "--------------------------------------------------\n"
     ]
    }
   ],
   "source": [
    "from sklearn.model_selection import cross_val_score, KFold\n",
    "from sklearn import metrics as mtr\n",
    "from sklearn.metrics import mean_squared_error, mean_absolute_error\n",
    "from collections import defaultdict\n",
    "from sklearn.metrics import roc_auc_score\n",
    "from sklearn.metrics import confusion_matrix\n",
    "from sklearn.metrics import classification_report, accuracy_score\n",
    "\n",
    "results = []\n",
    "names = []\n",
    "model_predictions = defaultdict()\n",
    "model_score = defaultdict(np.float)\n",
    "\n",
    "for name, model in models:   \n",
    "    kf = KFold(n_splits=5, random_state=1234, shuffle=True)\n",
    "    kf.get_n_splits(X, Y)\n",
    "    df_result = pd.DataFrame()\n",
    "    i = 0\n",
    "    #print(name)\n",
    "    \n",
    "    for train_index, test_index in kf.split(X, Y):\n",
    "        #print(\"TRAIN:\", train_index, \"TEST:\", test_index)\n",
    "        X_train, X_test = X.iloc[train_index], X.iloc[test_index] \n",
    "        y_train, y_test = Y.iloc[train_index], Y.iloc[test_index]\n",
    "        cv_results = cross_val_score(model, X_train, y_train.iloc[:,1], cv=kf, scoring='accuracy')    \n",
    "        results.append(cv_results)\n",
    "        names.append(name)\n",
    "        i = i + 1\n",
    "        msg = \"%s: %f (%f)\" % (name,cv_results.mean(), cv_results.std())\n",
    "        print(i,msg)\n",
    "\n",
    "        model.fit(X_train, y_train.iloc[:,1])\n",
    "        y_pred = model.predict(X_test)\n",
    "        df = pd.DataFrame({\"y_test\":y_test.iloc[:,1], \"y_pred\":y_pred})\n",
    "        df_result = pd.concat([df_result, df], axis=0)\n",
    "\n",
    "    # 評価指標の算出\n",
    "    y_test = df_result[\"y_test\"]\n",
    "    y_pred = df_result[\"y_pred\"]\n",
    "    print(\"毒キノコ識別率(accuracy)：%7.6f\" %  (accuracy_score(y_test, y_pred)))\n",
    "    print(classification_report(y_test, y_pred,digits=6))\n",
    "   \n",
    "    print(confusion_matrix(y_test, y_pred))\n",
    "    sns.heatmap(confusion_matrix(y_test, y_pred),annot=True,fmt='d')\n",
    "    plt.show()\n",
    "    print(\"--------------------------------------------------\")"
   ]
  },
  {
   "cell_type": "markdown",
   "metadata": {},
   "source": [
    "#### 上記結果から以下のClassifier が有効\n",
    "##### ロジステック回帰、K近傍法、決定木、ランダムフォレスト"
   ]
  }
 ],
 "metadata": {
  "kernelspec": {
   "display_name": "Python 3",
   "language": "python",
   "name": "python3"
  },
  "language_info": {
   "codemirror_mode": {
    "name": "ipython",
    "version": 3
   },
   "file_extension": ".py",
   "mimetype": "text/x-python",
   "name": "python",
   "nbconvert_exporter": "python",
   "pygments_lexer": "ipython3",
   "version": "3.6.3"
  }
 },
 "nbformat": 4,
 "nbformat_minor": 2
}
